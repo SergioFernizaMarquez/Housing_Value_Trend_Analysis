{
 "cells": [
  {
   "cell_type": "markdown",
   "metadata": {},
   "source": [
    "**If you lost points on the last checkpoint you can get them back by responding to TA/IA feedback**  \n",
    "\n",
    "Update/change the relevant sections where you lost those points, make sure you respond on GitHub Issues to your TA/IA to call their attention to the changes you made here.\n",
    "\n",
    "Please update your Timeline... no battle plan survives contact with the enemy, so make sure we understand how your plans have changed."
   ]
  },
  {
   "cell_type": "markdown",
   "metadata": {},
   "source": [
    "# COGS 108 - EDA Checkpoint"
   ]
  },
  {
   "cell_type": "markdown",
   "metadata": {},
   "source": [
    "# Names\n",
    "\n",
    "- Sergio Ferniza Marquez\n",
    "- Maximaliano Perez\n",
    "- Paola Castaneda Orozco\n",
    "- Daniel Huang"
   ]
  },
  {
   "cell_type": "markdown",
   "metadata": {},
   "source": [
    "# Research Question"
   ]
  },
  {
   "cell_type": "markdown",
   "metadata": {},
   "source": [
    "Based on real estate market trends, how does gentrification impact projected neighborhood-level home values, in the counties of Los Angeles, San Diego, and San Francisco?\n",
    "\n"
   ]
  },
  {
   "cell_type": "markdown",
   "metadata": {},
   "source": [
    "## Background and Prior Work"
   ]
  },
  {
   "cell_type": "markdown",
   "metadata": {},
   "source": [
    "Gentrification has become a highly controversial process that gained recognition in the 1960s. Several policies, such as the Ellis Act, have been enforced in California and are considered to impact the rates of gentrification. Since 1985, the Ellis Act has allowed landlords to evict tenants to remove their buildings from the rental market. [<sup>1</sup>](https://nextcity.org/history-of-gentrification) Landlords are still allowed to re-enter their buildings into the rental market; they must keep the same rent as the previous rent for five years. Landlords are later allowed to be rented at market rate, resetting rent-controlled units. This process stimulates a decrease in affordable housing market by removing rent-controlled units from the market. Removing these units accelerates gentrification within these neighborhoods by creating housing attainable for wealthier tenants while simultaneously displacing those native to the region. This law has contributed to the 27,000 rent-controlled units removed since 2001 in Los Angeles. [<sup>2</sup>](https://la.myneighborhooddata.org/2022/12/ellis-act-evictions/)\n",
    "\n",
    "But what is gentrification? Gentrification is the process by which a lower-income neighborhood begins inhabiting higher-income residents, leading to a more exclusive neighborhood. [<sup>1</sup>](https://nextcity.org/history-of-gentrification) Gentrification leads to an increase of new businesses, and improved housing and infrastructure; however, this influx may lead to the displacement of existing residents. For this project, we plan to analyze which cities in these specified counties have undergone gentrification and how this will continue to impact the economic outlook of these cities through home values and median household income.\n",
    "\n",
    "A database created by the Urban Displacement Project depicts a map of all Los Angeles, Orange, and San Diego counties based on gentrification and displacement trends. These trends are based on data from the American Community Survey through the years 1990 and 2015. The database differentiates each city within counties between three specific types: disadvantaged, gentrified, and exclusive neighborhoods. These types were based on changes in property values, median-income households, and college-educated residents. Between 1990 and 2015, there was a 16 percent increase in gentrified areas within Los Angeles, while San Diego County had an 18 percent increase. [<sup>3</sup>](https://www.urbandisplacement.org/maps/los-angeles-gentrification-and-displacement)\n",
    "\n",
    "\n",
    "1. [^](https://nextcity.org/history-of-gentrification) Next City. (n.d.). History of Gentrification in America: A Timeline. *Next City*. [<u>https://nextcity.org/history-of-gentrification</u>](https://nextcity.org/history-of-gentrification)\n",
    "2. [^](https://la.myneighborhooddata.org/2022/12/ellis-act-evictions/) Magaña, G. (2022, December). Ellis Act evictions. *Neighborhood Data for Social Change*. [<u>https://la.myneighborhooddata.org/2022/12/ellis-act-evictions/</u>](https://la.myneighborhooddata.org/2022/12/ellis-act-evictions/)\n",
    "3. [^](https://www.urbandisplacement.org/maps/los-angeles-gentrification-and-displacement/) Urban Displacement Project. (n.d.). Los Angeles – Gentrification and Displacement. *Urban Displacement Project*. [<u>https://www.urbandisplacement.org/maps/los-angeles-gentrification-and-displacement/</u>](https://www.urbandisplacement.org/maps/los-angeles-gentrification-and-displacement/)\n"
   ]
  },
  {
   "cell_type": "markdown",
   "metadata": {},
   "source": [
    "# Hypothesis\n"
   ]
  },
  {
   "cell_type": "markdown",
   "metadata": {},
   "source": [
    "We believe that gentrification significantly increases home values in San Francisco, Los Angeles, and San Diego, with the strongest effects observed in neighborhoods experiencing rapid income growth and business development. This occurs as higher-income residents and new businesses move in, driving up housing demand and property prices."
   ]
  },
  {
   "cell_type": "markdown",
   "metadata": {},
   "source": [
    "# Data"
   ]
  },
  {
   "cell_type": "markdown",
   "metadata": {},
   "source": [
    "## Data overview\n",
    "\n",
    "For each dataset include the following information\n",
    "- Dataset #1\n",
    "  - Dataset Name: neighborhood_market_tracker.tsv\n",
    "  - Link to the dataset: https://redfin-public-data.s3.us-west-2.amazonaws.com/redfin_market_tracker/neighborhood_market_tracker.tsv000.gz\n",
    "  - Number of observations: 13218348\n",
    "  - Number of variables: 58\n",
    "- Dataset #2\n",
    "  - Dataset Name: housing_data_cleaned.csv\n",
    "  - Link to the dataset: https://github.com/COGS108/Group178_WI25/blob/master/housing_data_cleaned.xls\n",
    "  - Number of observations: 159023\n",
    "  - Number of variables: 7\n",
    "\n",
    "- Dataset #1\n",
    "  \n",
    "  This dataset is a comprehensive record of housing activity, to the neighborhood level, throughout the United States. This contains an extensive and thorough record of housing prices, listing behaviors and market dynamics, from 2012 to 2024.\n",
    "  \n",
    "  Key Variables:\n",
    "  - Median sale price ('median_sale_price'): This represents the middle value of a home sale price within a given neighborhood, within a designated time period, delimited by the Time period variables. We can use this variable to track and analyze, the shifts in the costs of  a local housing market. With this data we intend to perform a thorough analyzsis of housing price trends in the designated metro areas for our research, where a positive increase trend over time, could be an indicator for gentrification.\n",
    "  - Time period ('period_begin, 'period_end'): These variables set the timeframe for a given data entry and the data tracked within this time period, these time periods span throughout a three month period. This variable will be useful for our research, since it will allow us to determine long term market trends for our research and allow us to analyze and compare, price differences within the same neighborhood over the twelve year period of time.\n",
    "  - Location ('region', 'parent_metro_region', 'state', 'city'): These variables determine in which area these data entry is relevant for, where the 'region' variable is the format of \"'city', 'State' - 'Neighborhood name'\". Therefore in order to extract the neighborhood name for each data entry we will have to clean the aformentioned variable to meet our needs. On the other hand the other location variables, describe the county, state and city in which the entry is located. This data will allow us to filter out the dataset in order to focus on the target counties of our research. \n",
    "  - Listing and market behaviors: These variables track information such as the median time a listing stays on the market as well as the average change in price from listing price to sale price, and a whole plethora of other information about the market and listing behavior which was determined to be irrelevant for the purpose of our research, as such it is in our intention to filter this information out, in order to drastically decrease the data load of this dataset.\n",
    "\n",
    "  For this dataset, we have the intention to refine it and with it be able to analyze gentrification trends, by observing how the median sale prices have shifted throughout time in the neighborhoods in the counties that are target in our investigation. Through proper filtering and cleaning we will be able to find market treds which may be in correlation to socioeconomic changes in our target regions.\n",
    "   \n",
    "- Dataset #2\n",
    "  \n",
    "  This dataset is a refined and optimized version of neighborhood_market_tracker.tsv, focusing on the counties of San Diego, San Francisco and Los Angeles. This data cleaning process involved a number of key steps:\n",
    "  - Filtering for target metro areas: This dataset only includes neighborhoods found within the boundaries of the San Diego, San Francisco and Los Angeles, counties. This targets the dataset to focus on our target regions for our research.\n",
    "  - Sorting data for consistency:\n",
    "    - Neighborhoods are sorted alphabetically, for ease of retrieval.\n",
    "    - Within each neighborhood, data entries are forted chronologically, to simplify time series analysis.\n",
    "  - Handling redundancies:\n",
    "    - In some instances, through data exploration, it was observed that for some neighborhoods there were multiple consecutive entries where median_sale_price remained unchanged. In light of this, it was decided that for the sake of data efficiency, for these instances consecutive entries with identical data, would be merged in order to ensure a concise and manageable dataset, without losing valuable information for our research.\n",
    "  - Extracting neighborhood names: As was mentioned beforehand, the region variable in the neighborhood_market_tracker.tsv dataset is in the format \"'city', 'State' - 'Neighborhood name'\", since we desired for our research to make neighborhood level analysis, it was decided that for ease of understanding we would splice this variable in order to extract the neighborhood name and preserve it as the neighborhood variable.\n",
    "\n",
    "  Key variables:\n",
    "  - Median sale price ('median_sale_price'): This represents the middle value of a home sale price within a given neighborhood, within a designated time period, delimited by the Time period variables. We can use this variable to track and analyze, the shifts in the costs of  a local housing market. With this data we intend to perform a thorough analyzsis of housing price trends in the designated metro areas for our research, where a positive increase trend over time, could be an indicator for gentrification.\n",
    "  - Time period ('period_begin, 'period_end'): These variables set the timeframe for a given data entry and the data tracked within this time period, these time periods span throughout a three month period. This variable will be useful for our research, since it will allow us to determine long term market trends for our research and allow us to analyze and compare, price differences within the same neighborhood over the twelve year period of time.\n",
    "  - Location ('neighborhood', 'county', 'state', 'city'): These variables determine in which area these data entry is relevant for. These varaibles, describe the neighborhood, county, state and city in which the entry is located. This data allows us to analyze the trends of median sale prices in a given neighborhood, in order for us to determine if there is a trend of gentrification in the aformentioned.\n",
    "\n",
    "  This cleaned dataset provides us a more efficient and structed source for us to conduct our analysis of localized housing value trends, Byeliminating redundant entries we also ensure to steamline the processing while preserving all essential data, in regards to the price trends in our target markets. By refining this dataset, we have improved its usability in tracking beighborhood level gentrification in an efficient manner, while preserving completeness and accuracy."
   ]
  },
  {
   "cell_type": "markdown",
   "metadata": {},
   "source": [
    "## neighborhood_market_tracker.tsv"
   ]
  },
  {
   "cell_type": "code",
   "execution_count": null,
   "metadata": {},
   "outputs": [],
   "source": [
    "import pandas as pd\n",
    "file_path = \"neighborhood_market_tracker.tsv\"\n",
    "\n",
    "# Read the file in chunks in order to avoid memory overloads.\n",
    "chunk_size = 15000  \n",
    "metro_regions = [\"San Francisco, CA\", \"San Diego, CA\", \"Los Angeles, CA\"]\n",
    "\n",
    "# We filter the rows considering for the 'parent_metro_region' column.\n",
    "filtered_rows = (\n",
    "    chunk[chunk[\"parent_metro_region\"].isin(metro_regions)]\n",
    "    for _, chunk in zip(range(1000), pd.read_csv(file_path, sep = '\\t', chunksize = chunk_size, low_memory = False))\n",
    ")\n",
    "\n",
    "# Combining all the filtered chunks\n",
    "df = pd.concat(filtered_rows, ignore_index=True)"
   ]
  },
  {
   "cell_type": "markdown",
   "metadata": {},
   "source": [
    "## housing_data_cleaned.csv"
   ]
  },
  {
   "cell_type": "code",
   "execution_count": null,
   "metadata": {},
   "outputs": [],
   "source": [
    "# We filter out the columns that are redundant to our investingation. While preserving those which columns are relevant for our work.\n",
    "columns_to_keep = ['period_begin', 'period_end', 'region', 'city', 'state', 'median_sale_price', 'parent_metro_region']\n",
    "\n",
    "# We now rename the 'region' and 'parent_metro_region' variables to 'neighborhood' and 'county' as this will be more useful for our research.\n",
    "# Renaming columns to more usefull names for us\n",
    "df = df[columns_to_keep]\n",
    "df = df.rename(columns={\n",
    "    'region': 'neighborhood',\n",
    "    'parent_metro_region': 'county'\n",
    "})\n",
    "\n",
    "# Since the format in the neighborhood column is of \"'city', 'state' - 'neighborhood name'\" we splice the entries to meet our needs.\n",
    "df['neighborhood'] = df['neighborhood'].str.split(' - ').str[-1]\n",
    "\n",
    "# We sort the data to be for neighborhoods ordered alphabetically and within the neighborhood they are ordered from oldest to newest\n",
    "df['period_begin'] = pd.to_datetime(df['period_begin'])\n",
    "df['period_end'] = pd.to_datetime(df['period_end'])\n",
    "df = df.sort_values(by=['neighborhood', 'period_end'], ascending=[True, True])\n",
    "\n",
    "# Now we clean out duplicate data that is present in the file, since we identified that there were instances consecutive entries where\n",
    "# the median sale value remained unchanged. Therefore for efficiency, we merge the values were for consecutive entries in a neighborhood\n",
    "# the sale values remained the same, reducing entries, while preserving the relevant data to our research.\n",
    "df = df.loc[df.groupby(['neighborhood', 'period_end'])['median_sale_price'].idxmax()]\n",
    "df['price_group'] = (df['median_sale_price'] != df['median_sale_price'].shift()).cumsum()\n",
    "df = df.groupby(['neighborhood', 'price_group'], as_index=False).agg({\n",
    "    'period_begin': 'first',\n",
    "    'period_end': 'last',\n",
    "    'city': 'first',\n",
    "    'state': 'first',\n",
    "    'median_sale_price': 'first',\n",
    "    'county': 'first'\n",
    "})\n",
    "df = df.drop(columns=['price_group'])\n",
    "\n",
    "# Now we convert the dataframe to a csv file, to preserve the data for our research.\n",
    "output_file_path = \"housing_data_cleaned.csv\"\n",
    "df.to_csv(output_file_path, index=False)\n",
    "print(f\"CSV file saved as {output_file_path}\")"
   ]
  },
  {
   "cell_type": "markdown",
   "metadata": {},
   "source": [
    "# Results\n",
    "\n",
    "## Exploratory Data Analysis\n",
    "\n",
    "This section explores the impact of gentrification on home values using real estate market trends. The analysis focuses on:\n",
    "- Distribution of home sale prices over time\n",
    "- Identifying outliers that may distort results\n",
    "- Examining relationships between income, gentrification status, and housing prices\n"
   ]
  },
  {
   "cell_type": "markdown",
   "metadata": {},
   "source": [
    "### Section 1: Distribution of Housing Prices in Gentrified Areas\n",
    "\n",
    "This section examines the general trend of housing prices to understand the overall price distribution.\n"
   ]
  },
  {
   "cell_type": "code",
   "execution_count": null,
   "metadata": {},
   "outputs": [],
   "source": [
    "import pandas as pd\n",
    "import matplotlib.pyplot as plt\n",
    "import seaborn as sns\n",
    "\n",
    "# Load datasets\n",
    "df2 = pd.read_csv(\"housing_data_cleaned.csv\")\n",
    "\n",
    "# Display basic info\n",
    "print(df2.info())\n",
    "print(df2.describe())\n",
    "\n",
    "# Visualizing the distribution of median sale prices\n",
    "plt.figure(figsize=(10,6))\n",
    "sns.histplot(df2['median_sale_price'], bins=50, kde=True)\n",
    "plt.title(\"Distribution of Home Sale Prices in Gentrified Neighborhoods\")\n",
    "plt.xlabel(\"Sale Price ($)\")\n",
    "plt.ylabel(\"Frequency\")\n",
    "plt.show()"
   ]
  },
  {
   "cell_type": "markdown",
   "metadata": {},
   "source": [
    "### Section 2: Identifying Outliers in Home Prices\n",
    "\n",
    "This section visualizes potential outliers that may distort our analysis.\n"
   ]
  },
  {
   "cell_type": "code",
   "execution_count": null,
   "metadata": {},
   "outputs": [],
   "source": [
    "# Box plot for detecting outliers in home sale prices\n",
    "plt.figure(figsize=(10,6))\n",
    "sns.boxplot(y=df2['median_sale_price'])\n",
    "plt.title(\"Outliers in Home Sale Prices\")\n",
    "plt.ylabel(\"Sale Price ($)\")\n",
    "plt.show()"
   ]
  },
  {
   "cell_type": "markdown",
   "metadata": {},
   "source": [
    "### Section 3: Relationship Between Income Growth and Housing Prices\n",
    "\n",
    "Examines the correlation between rising income and increasing home values in gentrified areas.\n"
   ]
  },
  {
   "cell_type": "code",
   "execution_count": null,
   "metadata": {},
   "outputs": [],
   "source": [
    "# Compute correlation matrix\n",
    "correlation_matrix = df2.corr()\n",
    "\n",
    "# Heatmap visualization\n",
    "plt.figure(figsize=(10,6))\n",
    "sns.heatmap(correlation_matrix, annot=True, cmap=\"coolwarm\", fmt=\".2f\")\n",
    "plt.title(\"Correlation Between Income Growth and Home Prices\")\n",
    "plt.show()"
   ]
  },
  {
   "cell_type": "markdown",
   "metadata": {},
   "source": [
    "### Section 4: Housing Prices Over Time\n",
    "\n",
    "Visualizing the trend of home prices over the last decade in gentrified neighborhoods.\n"
   ]
  },
  {
   "cell_type": "code",
   "execution_count": null,
   "metadata": {},
   "outputs": [],
   "source": [
    "# Convert date columns to datetime\n",
    "df2['period_end'] = pd.to_datetime(df2['period_end'])\n",
    "\n",
    "# Scatter plot for home prices over time\n",
    "plt.figure(figsize=(12,6))\n",
    "sns.scatterplot(x=df2['period_end'], y=df2['median_sale_price'], alpha=0.5)\n",
    "plt.title(\"Trend of Home Prices Over Time in Gentrified Areas\")\n",
    "plt.xlabel(\"Year\")\n",
    "plt.ylabel(\"Sale Price ($)\")\n",
    "plt.xticks(rotation=45)\n",
    "plt.show()"
   ]
  },
  {
   "cell_type": "markdown",
   "metadata": {},
   "source": [
    "# Ethics & Privacy\n",
    "\n",
    "We are studying how development affects home prices in San Francisco, Los Angeles, and San Diego. Our project can give useful information, but we need to think carefully about the ethics and privacy issues related to how we gather, handle, and study our data."
   ]
  },
  {
   "cell_type": "markdown",
   "metadata": {},
   "source": [
    "## 1. Issues with Bias and Privacy in Our Data\n",
    "\n",
    "- Choosing Bias: Zillow's data may not include some sales, like private deals or properties that aren't mentioned publicly. This might exclude certain areas or communities. Yelp and Google Maps might show more businesses that cater to wealthier customers, which can leave other companies less visible.\n",
    "- Data Gaps: If we don't have details on income or race, we might overlook the communities most affected by gentrification. As well we will add public datasets We will add public datasets like census data, city planning reports, and community surveys to our results to fill in the blanks and ensure that underrepresented areas are included.\n",
    "Privacy Concerns: We will only use publicly available information and will remove any personal details, like addresses or business owners' names. To keep privacy safe, we will collect it at the neighborhood level, ensuring everything is double-checked so no personal information will identify the person."
   ]
  },
  {
   "cell_type": "markdown",
   "metadata": {},
   "source": [
    "## 2. Recognizing Bias\n",
    "\n",
    "To find any potential biases in our data, our team will:\n",
    "- Assess Representation: We'll evaluate our datasets to make sure they fairly represent the variety of neighborhoods and housing circumstances found in every city.\n",
    "- Cross-validation: To make sure our conclusions are trustworthy and not too generalized, we will compare our findings with those from other sources, such as government reports, demographic area datasets, and census information.\n",
    "- Community Views: To guarantee a comprehensive investigation, we will take into account suggestions from neighborhood associations or those who have been directly impacted by gentrification."
   ]
  },
  {
   "cell_type": "markdown",
   "metadata": {},
   "source": [
    "## 3. Reducing Bias\n",
    "\n",
    "To reduce biases in our project, we will:\n",
    "- Balanced Sampling: Ensure that our data encompasses communities with a variety of income levels, not only those that are experiencing major growth or change.\n",
    "- Document Assumptions: Clearly state any assumptions we make, such as the way we categorize companies that serve affluent customers.\n",
    "- Equity-Focused Analysis: We'll look at the positives as well as potential disadvantages of gentrification, especially how it affects underprivileged populations and those who might not profit from increased property values."
   ]
  },
  {
   "cell_type": "markdown",
   "metadata": {},
   "source": [
    "## 4. Data Protection and Appropriate Use\n",
    "\n",
    "The following will be our main priority to address privacy concerns:\n",
    "- Secure Data Storage: To make sure our data is safe, we'll encrypt it and restrict access.\n",
    "- Respect Terms of Use: To maintain compliance, we are bound by all usage policies for information from Google Maps, Yelp, and Zillow.\n",
    "- Anonymization: We will make sure that any data that includes people or businesses is made anonymous by taking out names, addresses, and other unique identifiers before we publish our results. Data will only be shared in a general way to keep people from being re-identified."
   ]
  },
  {
   "cell_type": "markdown",
   "metadata": {},
   "source": [
    "## 5. Presenting Our Findings\n",
    "\n",
    "Together, we are committed to ethically sharing our discoveries:\n",
    "- Prevent Misrepresentation: We will openly share our findings, acknowledging the limits of our data as well as the larger gentrification-influencing issues.\n",
    "- Accessibility: We will present our findings in a way that both academic audiences and the gentrified populations can understand.\n",
    "- Mitigation Suggestions: Whenever possible, we will suggest solutions to mitigate the negative effects of gentrification, like supporting affordable housing or encouraging community participation in urban development."
   ]
  },
  {
   "cell_type": "markdown",
   "metadata": {},
   "source": [
    "# Team Expectations "
   ]
  },
  {
   "cell_type": "markdown",
   "metadata": {},
   "source": [
    "* Sergio Ferniza Marquez: I will scrape, clean and prepare the data, using a scraper written in python and do the clean up and preparation using SQL\n",
    "* Paola Castaneda: Complete majority of written parts and primary contributor for video.\n",
    "* Daniel Huang: Create visualizations once data is prepared and assist with written parts.\n",
    "* Maximiliano Perez: Will ensure the ethical use of data, addressing privacy issues, reducing biases, and carefully tracking obedience to ethical standards throughout the project.\n",
    "* Attend all meetings and maintain open communication between each other."
   ]
  },
  {
   "cell_type": "markdown",
   "metadata": {},
   "source": [
    "# Project Timeline Proposal"
   ]
  },
  {
   "cell_type": "markdown",
   "metadata": {},
   "source": [
    "| Meeting Date  | Meeting Time| Completed Before Meeting  | Discuss at Meeting |\n",
    "|---|---|---|---|\n",
    "| 2/7  | 3 PM  | Search for datasets | Discuss Wrangling and possible analytical approaches; Assign group members to lead each specific part |\n",
    "| 2/19  | 6 PM  | Import & Wrangle Data; EDA | Review/Edit wrangling/EDA; Discuss Analysis Plan |\n",
    "| 2/24  | 5 PM  | Finalize wrangling/EDA; Begin Analysis | Discuss/edit Analysis; Complete project check-in |\n",
    "| 3/10  | 5 PM  | Complete analysis; Draft results/conclusion/discussion | Discuss/edit full project |\n",
    "| 3/19  | Before 11:59 PM  | Complete all parts of project and video | Turn in Final Project & Group Project Surveys |"
   ]
  }
 ],
 "metadata": {
  "kernelspec": {
   "display_name": "Python 3 (ipykernel)",
   "language": "python",
   "name": "python3"
  },
  "language_info": {
   "codemirror_mode": {
    "name": "ipython",
    "version": 3
   },
   "file_extension": ".py",
   "mimetype": "text/x-python",
   "name": "python",
   "nbconvert_exporter": "python",
   "pygments_lexer": "ipython3",
   "version": "3.12.9"
  }
 },
 "nbformat": 4,
 "nbformat_minor": 4
}
