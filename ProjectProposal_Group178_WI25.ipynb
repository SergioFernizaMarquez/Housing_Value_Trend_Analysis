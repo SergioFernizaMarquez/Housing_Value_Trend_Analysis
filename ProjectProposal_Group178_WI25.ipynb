{
 "cells": [
  {
   "cell_type": "markdown",
   "metadata": {},
   "source": [
    "# COGS 108 - Project Proposal"
   ]
  },
  {
   "cell_type": "markdown",
   "metadata": {},
   "source": [
    "# Names\n",
    "\n",
    "- Sergio Ferniza Marquez\n",
    "- Maximiliano Perez\n",
    "- Paola Castaneda Orozco\n",
    "- Daniel Huang\n"
   ]
  },
  {
   "cell_type": "markdown",
   "metadata": {},
   "source": [
    "# Research Question"
   ]
  },
  {
   "cell_type": "markdown",
   "metadata": {},
   "source": [
    "How does gentrification impact future home values in San Francisco, Los Angeles, and San Diego?"
   ]
  },
  {
   "cell_type": "markdown",
   "metadata": {},
   "source": [
    "## Background and Prior Work"
   ]
  },
  {
   "cell_type": "markdown",
   "metadata": {},
   "source": [
    "\n",
    "Gentrification has become a highly controversial process that gained recognition in the 1960s. Several policies, such as the Ellis Act, have been enforced in California and are considered to impact the rates of gentrification. Since 1985, the Ellis Act has allowed landlords to evict tenants to remove their buildings from the rental market. [<sup>1</sup>](https://nextcity.org/history-of-gentrification) Landlords are still allowed to re-enter their buildings into the rental market; they must keep the same rent as the previous rent for five years. Landlords are later allowed to be rented at market rate, resetting rent-controlled units. This law has contributed to the 27,000 rent-controlled units removed since 2001 in Los Angeles. [<sup>2</sup>](https://la.myneighborhooddata.org/2022/12/ellis-act-evictions/) But what is gentrification? Gentrification is the process by which a lower-income neighborhood increases in value due to the rapid growth of wealthy residents. [<sup>1</sup>](https://nextcity.org/history-of-gentrification) Gentrification can increase new businesses and improve housing; however, this influx may lead to the displacement of existing residents. For this project, we plan to analyze which cities in these specified counties have undergone gentrification and how this will continue to impact the economic outlook of these cities through home values and median household income.\n",
    "\n",
    "A database created by the Urban Displacement Project depicts a map of all Los Angeles, Orange, and San Diego counties based on gentrification and displacement trends. These trends are based on data from the American Community Survey through the years 1990 and 2015. The database differentiates each city within counties between three specific types: disadvantaged, gentrified, and exclusive neighborhoods. These types were based on changes in property values, median-income households, and college-educated residents. Between 1990 and 2015, there was a 16 percent increase in gentrified areas within Los Angeles, while San Diego County had an 18 percent increase. [<sup>3</sup>](https://www.urbandisplacement.org/maps/los-angeles-gentrification-and-displacement)\n",
    "\n",
    "\n",
    "1. [^](https://nextcity.org/history-of-gentrification) Next City. (n.d.). History of Gentrification in America: A Timeline. *Next City*. [<u>https://nextcity.org/history-of-gentrification</u>](https://nextcity.org/history-of-gentrification)\n",
    "2. [^](https://la.myneighborhooddata.org/2022/12/ellis-act-evictions/) Magaña, G. (2022, December). Ellis Act evictions. *Neighborhood Data for Social Change*. [<u>https://la.myneighborhooddata.org/2022/12/ellis-act-evictions/</u>](https://la.myneighborhooddata.org/2022/12/ellis-act-evictions/)\n",
    "3. [^](https://www.urbandisplacement.org/maps/los-angeles-gentrification-and-displacement/) Urban Displacement Project. (n.d.). Los Angeles – Gentrification and Displacement. *Urban Displacement Project*. [<u>https://www.urbandisplacement.org/maps/los-angeles-gentrification-and-displacement/</u>](https://www.urbandisplacement.org/maps/los-angeles-gentrification-and-displacement/)\n"
   ]
  },
  {
   "cell_type": "markdown",
   "metadata": {},
   "source": [
    "# Hypothesis\n"
   ]
  },
  {
   "cell_type": "markdown",
   "metadata": {},
   "source": [
    "\n",
    "We believe that gentrification significantly increases home values in San Francisco, Los Angeles, and San Diego, with the strongest effects observed in neighborhoods experiencing rapid income growth and business development. This occurs as higher-income residents and new businesses move in, driving up housing demand and property prices."
   ]
  },
  {
   "cell_type": "markdown",
   "metadata": {},
   "source": [
    "# Data"
   ]
  },
  {
   "cell_type": "markdown",
   "metadata": {},
   "source": [
    "1. The ideal dataset for this project would a dataset that tracks median sales data for neighborhoods or zipcodes over substantial period of time, ideally around a decade, within the focus counties of our research. Ideally this data would be stored in a csv or similar format, otherwise a pdf file for easier access and data cleaning work. The ideal variables for such a dataset would be tracking the median or average sale price for the housing in a particular area and having a substantial quantity over a long period of time. Such would be useful in order to track the nature of price increases of housing values over time, not only to track the raw price increase but also consider percent increases over time.\n",
    "\n",
    "2. The Redfin US housing market database provides a massive database for tracking housing market data, from median pricing to average time a house sits on the market. This database provides data from 2012 till the present day, going from the national, metro, state, county, city, zipcode and neighborhood level. For our research we would use the neighborhood level tracker, however this is a very large file (over 7 gigabytes) so it will require extensive cleaning untill it can be used in our project."
   ]
  },
  {
   "cell_type": "markdown",
   "metadata": {},
   "source": [
    "# Ethics & Privacy\n",
    "\n",
    "We are studying how development affects home prices in San Francisco, Los Angeles, and San Diego. Our project can give useful information, but we need to think carefully about the ethics and privacy issues related to how we gather, handle, and study our data."
   ]
  },
  {
   "cell_type": "markdown",
   "metadata": {},
   "source": [
    "## 1. Issues with Bias and Privacy in Our Data\n",
    "\n",
    "- Choosing Bias: Zillow's data may not include some sales, like private deals or properties that aren't mentioned publicly. This might exclude certain areas or communities. Yelp and Google Maps might show more businesses that cater to wealthier customers, which can leave other companies less visible.\n",
    "- Data Gaps: If we don't have details on income or race, we might overlook the communities most affected by gentrification.\n",
    "- Privacy Concerns: We will only use publicly available information and will make sure to remove any personal details, like addresses or business owners' names, to keep privacy safe."
   ]
  },
  {
   "cell_type": "markdown",
   "metadata": {},
   "source": [
    "## 2. Recognizing Bias\n",
    "\n",
    "To find any potential biases in our data, our team will:\n",
    "- Assess Representation: We'll evaluate our datasets to make sure they fairly represent the variety of neighborhoods and housing circumstances found in every city.\n",
    "- Cross-validation: To make sure our conclusions are trustworthy and not too generalized, we will compare our findings with those from other sources, such as government reports or census information.\n",
    "- Community Views: To guarantee a comprehensive investigation, we will take into account suggestions from neighborhood associations or those who have been directly impacted by gentrification."
   ]
  },
  {
   "cell_type": "markdown",
   "metadata": {},
   "source": [
    "## 3. Reducing Bias\n",
    "\n",
    "To reduce biases in our project, we will:\n",
    "- Balanced Sampling: Ensure that our data encompasses communities with a variety of income levels, not only those that are experiencing major growth or change.\n",
    "- Document Assumptions: Clearly state any assumptions we make, such as the way we categorize companies that serve affluent customers.\n",
    "- Equity-Focused Analysis: We'll look at the positives as well as potential disadvantages of gentrification, especially how it affects underprivileged populations and those who might not profit from increased property values."
   ]
  },
  {
   "cell_type": "markdown",
   "metadata": {},
   "source": [
    "## 4. Data Protection and Appropriate Use\n",
    "\n",
    "The following will be our main priority to address privacy concerns:\n",
    "- Secure Data Storage: To make sure our data is safe, we'll encrypt it and restrict access.\n",
    "- Respect Terms of Use: To maintain compliance, we are bound by all usage policies for information from Google Maps, Yelp, and Zillow.\n",
    "- Anonymization: We will make sure that people and companies cannot be identified in our analysis or visualizations, and we won't include any information that can be used to identify unless it is absolutely required."
   ]
  },
  {
   "cell_type": "markdown",
   "metadata": {},
   "source": [
    "## 5. Presenting Our Findings\n",
    "\n",
    "Together, we are committed to ethically sharing our discoveries:\n",
    "- Prevent Misrepresentation: We will openly share our findings, acknowledging the limits of our data as well as the larger gentrification-influencing issues.\n",
    "- Accessibility: We will present our findings in a way that both academic audiences and the gentrified populations can understand.\n",
    "- Mitigation Suggestions: Whenever possible, we will suggest solutions to mitigate the negative effects of gentrification, like supporting affordable housing or encouraging community participation in urban development."
   ]
  },
  {
   "cell_type": "markdown",
   "metadata": {},
   "source": [
    "By addressing these ethical and privacy considerations, we aim to ensure our project is conducted with integrity and produces fair, meaningful outcomes that benefit all stakeholders."
   ]
  },
  {
   "cell_type": "markdown",
   "metadata": {},
   "source": [
    "# Team Expectations "
   ]
  },
  {
   "cell_type": "markdown",
   "metadata": {},
   "source": [
    "\n",
    "* Sergio Ferniza Marquez: I will scrape, clean and prepare the data, using a scraper written in python and do the clean up and preparation using SQL\n",
    "* Paola Castaneda: Complete majority of written parts and primary contributor for video.\n",
    "* Daniel Huang: Create visualizations once data is prepared and assist with written parts.\n",
    "* Maximiliano Perez: Will ensure the ethical use of data, addressing privacy issues, reducing biases, and carefully tracking obedience to ethical standards throughout the project.\n",
    "* Attend all meetings and maintain open communication between each other."
   ]
  },
  {
   "cell_type": "markdown",
   "metadata": {},
   "source": [
    "# Project Timeline Proposal"
   ]
  },
  {
   "cell_type": "markdown",
   "metadata": {},
   "source": [
    "| Meeting Date  | Meeting Time| Completed Before Meeting  | Discuss at Meeting |\n",
    "|---|---|---|---|\n",
    "| 2/7  | 3 PM  | Search for datasets | Discuss Wrangling and possible analytical approaches; Assign group members to lead each specific part |\n",
    "| 2/17  | 5 PM  | Import & Wrangle Data; EDA | Review/Edit wrangling/EDA; Discuss Analysis Plan |\n",
    "| 2/24  | 5 PM  | Finalize wrangling/EDA; Begin Analysis | Discuss/edit Analysis; Complete project check-in |\n",
    "| 3/10  | 5 PM  | Complete analysis; Draft results/conclusion/discussion | Discuss/edit full project |\n",
    "| 3/19  | Before 11:59 PM  | Complete all parts of project and video | Turn in Final Project & Group Project Surveys |"
   ]
  }
 ],
 "metadata": {
  "kernelspec": {
   "display_name": "Python 3 (ipykernel)",
   "language": "python",
   "name": "python3"
  },
  "language_info": {
   "codemirror_mode": {
    "name": "ipython",
    "version": 3
   },
   "file_extension": ".py",
   "mimetype": "text/x-python",
   "name": "python",
   "nbconvert_exporter": "python",
   "pygments_lexer": "ipython3",
   "version": "3.12.9"
  }
 },
 "nbformat": 4,
 "nbformat_minor": 4
}
